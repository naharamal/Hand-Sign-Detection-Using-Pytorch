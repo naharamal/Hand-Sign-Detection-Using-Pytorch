{
 "cells": [
  {
   "cell_type": "code",
   "execution_count": 9,
   "metadata": {},
   "outputs": [],
   "source": [
    "import os\n",
    "import cv2\n",
    "import numpy as np\n",
    "from tqdm import tqdm\n"
   ]
  },
  {
   "cell_type": "code",
   "execution_count": 20,
   "metadata": {},
   "outputs": [
    {
     "name": "stderr",
     "output_type": "stream",
     "text": [
      "100%|███████████████████████████████████████████████████████████████████████████████| 524/524 [00:00<00:00, 790.27it/s]\n",
      "100%|█████████████████████████████████████████████████████████████████████████████| 1311/1311 [00:01<00:00, 878.97it/s]\n",
      "100%|█████████████████████████████████████████████████████████████████████████████████| 80/80 [00:00<00:00, 859.57it/s]\n",
      "100%|███████████████████████████████████████████████████████████████████████████████| 110/110 [00:00<00:00, 717.09it/s]\n",
      "100%|███████████████████████████████████████████████████████████████████████████████| 597/597 [00:00<00:00, 814.24it/s]\n",
      "100%|███████████████████████████████████████████████████████████████████████████████| 501/501 [00:00<00:00, 791.96it/s]\n",
      "100%|███████████████████████████████████████████████████████████████████████████████| 713/713 [00:00<00:00, 787.58it/s]\n",
      "100%|█████████████████████████████████████████████████████████████████████████████| 1243/1243 [00:01<00:00, 829.66it/s]\n",
      "100%|█████████████████████████████████████████████████████████████████████████████████| 43/43 [00:00<00:00, 725.95it/s]\n",
      "100%|███████████████████████████████████████████████████████████████████████████████| 276/276 [00:00<00:00, 990.36it/s]\n",
      "100%|████████████████████████████████████████████████████████████████████████████| 1366/1366 [00:01<00:00, 1176.60it/s]\n",
      "100%|████████████████████████████████████████████████████████████████████████████| 1038/1038 [00:00<00:00, 1166.41it/s]\n",
      "100%|████████████████████████████████████████████████████████████████████████████| 1028/1028 [00:00<00:00, 1175.11it/s]\n",
      "100%|█████████████████████████████████████████████████████████████████████████████████| 80/80 [00:00<00:00, 962.49it/s]\n",
      "100%|██████████████████████████████████████████████████████████████████████████████| 387/387 [00:00<00:00, 1229.80it/s]\n",
      "100%|████████████████████████████████████████████████████████████████████████████| 1149/1149 [00:00<00:00, 1182.63it/s]\n",
      "100%|█████████████████████████████████████████████████████████████████████████████| 1033/1033 [00:01<00:00, 936.65it/s]\n",
      "100%|█████████████████████████████████████████████████████████████████████████████| 1474/1474 [00:01<00:00, 936.73it/s]\n",
      "100%|████████████████████████████████████████████████████████████████████████████████| 89/89 [00:00<00:00, 1027.85it/s]\n",
      "100%|███████████████████████████████████████████████████████████████████████████████| 925/925 [00:00<00:00, 964.85it/s]\n",
      "100%|██████████████████████████████████████████████████████████████████████████████| 361/361 [00:00<00:00, 1289.12it/s]\n",
      "100%|████████████████████████████████████████████████████████████████████████████| 1103/1103 [00:00<00:00, 1273.21it/s]\n",
      "100%|████████████████████████████████████████████████████████████████████████████| 1491/1491 [00:01<00:00, 1255.11it/s]\n",
      "100%|██████████████████████████████████████████████████████████████████████████████| 263/263 [00:00<00:00, 1082.87it/s]\n",
      "100%|████████████████████████████████████████████████████████████████████████████| 1351/1351 [00:01<00:00, 1007.57it/s]\n"
     ]
    },
    {
     "name": "stdout",
     "output_type": "stream",
     "text": [
      "[3123, 3641, 3682, 3882, 4208]\n"
     ]
    }
   ],
   "source": [
    "class HandSign():\n",
    "    IMG_SIZE=28\n",
    "    LABELS={'Dang':0,'Fist':1,'Four':2,'Palm':3,'Startrek':4}\n",
    "    training_data=[]    \n",
    "    count=[0,0,0,0,0]\n",
    "    \n",
    "    def make_training_data(self):\n",
    "        for fold in self.LABELS:\n",
    "            for subfold in os.listdir(fold):\n",
    "                for pic_name in tqdm(os.listdir(os.path.join(fold,subfold))):\n",
    "\n",
    "                    if \"png\" in pic_name:\n",
    "                        try:\n",
    "                            path=os.path.join(fold,subfold,pic_name)\n",
    "                            img=cv2.imread(path,cv2.IMREAD_GRAYSCALE)\n",
    "                            img=cv2.resize(img,(self.IMG_SIZE,self.IMG_SIZE))\n",
    "                            self.training_data.append([np.array(img),np.eye(5)[self.LABELS[fold]]])                    \n",
    "                            self.count[self.LABELS[fold]]+=1\n",
    "                    \n",
    "                        except Exception as e:\n",
    "                            pass\n",
    "                \n",
    "        np.random.shuffle(self.training_data)\n",
    "        np.save(\"training_data.npy\",self.training_data)\n",
    "        print(self.count)\n",
    "    \n",
    "            \n",
    "handsign=HandSign()   \n",
    "handsign.make_training_data()\n",
    "    "
   ]
  },
  {
   "cell_type": "code",
   "execution_count": 32,
   "metadata": {},
   "outputs": [
    {
     "data": {
      "text/plain": [
       "<function matplotlib.pyplot.show(*args, **kw)>"
      ]
     },
     "execution_count": 32,
     "metadata": {},
     "output_type": "execute_result"
    },
    {
     "data": {
      "image/png": "[encoded data removed]",
      "text/plain": [
       "<Figure size 432x288 with 1 Axes>"
      ]
     },
     "metadata": {
      "needs_background": "light"
     },
     "output_type": "display_data"
    }
   ],
   "source": [
    "from matplotlib import pyplot as plt\n",
    "plt.bar([1,2,3,4,5],handsign.count,color='red')\n",
    "plt.show"
   ]
  },
  {
   "cell_type": "code",
   "execution_count": 40,
   "metadata": {},
   "outputs": [],
   "source": [
    "import torch\n",
    "import torch.nn as nn\n",
    "import torch.nn.functional as F\n",
    "import numpy as np\n",
    "\n",
    "training_data=np.load(\"training_data.npy\")"
   ]
  },
  {
   "cell_type": "code",
   "execution_count": 43,
   "metadata": {},
   "outputs": [
    {
     "name": "stdout",
     "output_type": "stream",
     "text": [
      "Net(\n",
      "  (conv1): Conv2d(1, 32, kernel_size=(3, 3), stride=(1, 1))\n",
      "  (conv2): Conv2d(32, 64, kernel_size=(3, 3), stride=(1, 1))\n",
      "  (conv3): Conv2d(64, 128, kernel_size=(3, 3), stride=(1, 1))\n",
      "  (fc1): Linear(in_features=128, out_features=512, bias=True)\n",
      "  (fc2): Linear(in_features=512, out_features=5, bias=True)\n",
      ")\n"
     ]
    }
   ],
   "source": [
    "class Net(nn.Module):\n",
    "    def __init__(self):\n",
    "        super().__init__()\n",
    "        self.conv1=nn.Conv2d(1,32,3)\n",
    "        self.conv2=nn.Conv2d(32,64,3)\n",
    "        self.conv3=nn.Conv2d(64,128,3)\n",
    "\n",
    "        x=torch.randn(28,28).view(-1,1,28,28)\n",
    "        self.to_linear=None\n",
    "        self.convs(x)\n",
    "        \n",
    "        self.fc1=nn.Linear(self.to_linear,512)\n",
    "        self.fc2=nn.Linear(512,5)\n",
    "            \n",
    "        \n",
    "    def convs(self,x):\n",
    "        x=F.max_pool2d(F.relu(self.conv1(x)),(2,2))\n",
    "        x=F.max_pool2d(F.relu(self.conv2(x)),(2,2))\n",
    "        x=F.max_pool2d(F.relu(self.conv3(x)),(2,2))\n",
    "        \n",
    "        if self.to_linear is None:\n",
    "            self.to_linear=x[0].shape[0]*x[0].shape[1]*x[0].shape[2]\n",
    "        return(x)\n",
    "    \n",
    "    def forward(self,x):\n",
    "        x=self.convs(x)\n",
    "        x=x.view(-1,self.to_linear)\n",
    "        x=F.relu(self.fc1(x))\n",
    "        x=self.fc2(x)\n",
    "        \n",
    "        return F.softmax(x,dim=1)\n",
    "    \n",
    "net=Net()\n",
    "print(net)"
   ]
  },
  {
   "cell_type": "code",
   "execution_count": 54,
   "metadata": {},
   "outputs": [],
   "source": [
    "import torch.optim as optim\n",
    "\n",
    "optimizer=optim.Adam(net.parameters(),lr=0.001)\n",
    "loss_function=nn.MSELoss()"
   ]
  },
  {
   "cell_type": "code",
   "execution_count": 49,
   "metadata": {},
   "outputs": [
    {
     "name": "stderr",
     "output_type": "stream",
     "text": [
      "100%|███████████████████████████████████████████████████████████████████████| 18536/18536 [00:00<00:00, 1684774.82it/s]\n",
      "100%|███████████████████████████████████████████████████████████████████████| 18536/18536 [00:00<00:00, 1268177.46it/s]"
     ]
    },
    {
     "name": "stdout",
     "output_type": "stream",
     "text": [
      "torch.Size([18536, 28, 28]) torch.Size([18536, 5])\n"
     ]
    },
    {
     "name": "stderr",
     "output_type": "stream",
     "text": [
      "\n"
     ]
    }
   ],
   "source": [
    "X=torch.Tensor([i[0] for i in tqdm(training_data)]).view(-1,28,28)\n",
    "X=X/255.0\n",
    "Y=torch.Tensor([i[1] for i in  tqdm(training_data)])\n",
    "\n",
    "print(X.shape,Y.shape)"
   ]
  },
  {
   "cell_type": "code",
   "execution_count": 50,
   "metadata": {},
   "outputs": [
    {
     "name": "stdout",
     "output_type": "stream",
     "text": [
      "1853\n"
     ]
    }
   ],
   "source": [
    "val_size=0.1\n",
    "val_size=int(len(X)*val_size)\n",
    "\n",
    "print(val_size)"
   ]
  },
  {
   "cell_type": "code",
   "execution_count": 60,
   "metadata": {},
   "outputs": [
    {
     "name": "stdout",
     "output_type": "stream",
     "text": [
      "16683 16683\n"
     ]
    }
   ],
   "source": [
    "train_X=X[:-val_size]\n",
    "train_Y=Y[:-val_size]\n",
    "\n",
    "test_X=X[-val_size:]\n",
    "test_Y=Y[-val_size:]\n",
    "\n",
    "print(len(train_X),len(train_Y))"
   ]
  },
  {
   "cell_type": "code",
   "execution_count": 62,
   "metadata": {},
   "outputs": [
    {
     "name": "stderr",
     "output_type": "stream",
     "text": [
      "100%|████████████████████████████████████████████████████████████████████████████████| 334/334 [00:15<00:00, 21.27it/s]\n",
      "  1%|▋                                                                                 | 3/334 [00:00<00:15, 20.98it/s]"
     ]
    },
    {
     "name": "stdout",
     "output_type": "stream",
     "text": [
      "Epoch:0. Loss:0.0006873628590255976\n"
     ]
    },
    {
     "name": "stderr",
     "output_type": "stream",
     "text": [
      "100%|████████████████████████████████████████████████████████████████████████████████| 334/334 [00:16<00:00, 20.53it/s]\n",
      "  1%|▋                                                                                 | 3/334 [00:00<00:15, 20.98it/s]"
     ]
    },
    {
     "name": "stdout",
     "output_type": "stream",
     "text": [
      "Epoch:1. Loss:0.00021637776808347553\n"
     ]
    },
    {
     "name": "stderr",
     "output_type": "stream",
     "text": [
      "100%|████████████████████████████████████████████████████████████████████████████████| 334/334 [00:15<00:00, 20.92it/s]\n",
      "  1%|▋                                                                                 | 3/334 [00:00<00:16, 20.42it/s]"
     ]
    },
    {
     "name": "stdout",
     "output_type": "stream",
     "text": [
      "Epoch:2. Loss:0.0007607925217598677\n"
     ]
    },
    {
     "name": "stderr",
     "output_type": "stream",
     "text": [
      "100%|████████████████████████████████████████████████████████████████████████████████| 334/334 [00:16<00:00, 19.71it/s]\n",
      "  1%|▍                                                                                 | 2/334 [00:00<00:16, 20.00it/s]"
     ]
    },
    {
     "name": "stdout",
     "output_type": "stream",
     "text": [
      "Epoch:3. Loss:0.0002485786098986864\n"
     ]
    },
    {
     "name": "stderr",
     "output_type": "stream",
     "text": [
      "100%|████████████████████████████████████████████████████████████████████████████████| 334/334 [00:19<00:00, 17.19it/s]\n",
      "  1%|▍                                                                                 | 2/334 [00:00<00:17, 19.40it/s]"
     ]
    },
    {
     "name": "stdout",
     "output_type": "stream",
     "text": [
      "Epoch:4. Loss:0.0015759989619255066\n"
     ]
    },
    {
     "name": "stderr",
     "output_type": "stream",
     "text": [
      "100%|████████████████████████████████████████████████████████████████████████████████| 334/334 [00:16<00:00, 20.05it/s]\n",
      "  1%|▍                                                                                 | 2/334 [00:00<00:16, 19.70it/s]"
     ]
    },
    {
     "name": "stdout",
     "output_type": "stream",
     "text": [
      "Epoch:5. Loss:0.00026779703330248594\n"
     ]
    },
    {
     "name": "stderr",
     "output_type": "stream",
     "text": [
      "100%|████████████████████████████████████████████████████████████████████████████████| 334/334 [00:17<00:00, 19.40it/s]\n",
      "  1%|▍                                                                                 | 2/334 [00:00<00:18, 18.33it/s]"
     ]
    },
    {
     "name": "stdout",
     "output_type": "stream",
     "text": [
      "Epoch:6. Loss:0.00012914442049805075\n"
     ]
    },
    {
     "name": "stderr",
     "output_type": "stream",
     "text": [
      "100%|████████████████████████████████████████████████████████████████████████████████| 334/334 [00:18<00:00, 18.10it/s]\n",
      "  1%|▍                                                                                 | 2/334 [00:00<00:19, 16.66it/s]"
     ]
    },
    {
     "name": "stdout",
     "output_type": "stream",
     "text": [
      "Epoch:7. Loss:9.31233080336824e-05\n"
     ]
    },
    {
     "name": "stderr",
     "output_type": "stream",
     "text": [
      "100%|████████████████████████████████████████████████████████████████████████████████| 334/334 [00:18<00:00, 17.77it/s]\n",
      "  1%|▍                                                                                 | 2/334 [00:00<00:17, 18.53it/s]"
     ]
    },
    {
     "name": "stdout",
     "output_type": "stream",
     "text": [
      "Epoch:8. Loss:2.1602072592941113e-05\n"
     ]
    },
    {
     "name": "stderr",
     "output_type": "stream",
     "text": [
      "100%|████████████████████████████████████████████████████████████████████████████████| 334/334 [00:18<00:00, 18.18it/s]"
     ]
    },
    {
     "name": "stdout",
     "output_type": "stream",
     "text": [
      "Epoch:9. Loss:8.31391298561357e-06\n"
     ]
    },
    {
     "name": "stderr",
     "output_type": "stream",
     "text": [
      "\n"
     ]
    }
   ],
   "source": [
    "batch_size=50\n",
    "EPOCHS=10\n",
    "\n",
    "for epoch in range(EPOCHS):\n",
    "    for i in tqdm(range(0,len(train_X),batch_size)):\n",
    "        batch_X=train_X[i:i+batch_size].view(-1,1,28,28)\n",
    "        batch_Y=train_Y[i:i+batch_size]\n",
    "        \n",
    "        net.zero_grad()\n",
    "        \n",
    "        outputs=net(batch_X)\n",
    "        loss=loss_function(outputs,batch_Y)\n",
    "        loss.backward()\n",
    "        optimizer.step()\n",
    "        \n",
    "    print(f\"Epoch:{epoch}. Loss:{loss}\")"
   ]
  },
  {
   "cell_type": "code",
   "execution_count": 63,
   "metadata": {},
   "outputs": [
    {
     "name": "stderr",
     "output_type": "stream",
     "text": [
      "100%|█████████████████████████████████████████████████████████████████████████████| 1853/1853 [00:02<00:00, 794.13it/s]"
     ]
    },
    {
     "name": "stdout",
     "output_type": "stream",
     "text": [
      "Accuracy:  99.9\n"
     ]
    },
    {
     "name": "stderr",
     "output_type": "stream",
     "text": [
      "\n"
     ]
    }
   ],
   "source": [
    "correct=0\n",
    "total=0\n",
    "\n",
    "with torch.no_grad():\n",
    "    for i in tqdm(range(len(test_X))):\n",
    "        real=torch.argmax(test_Y[i])\n",
    "        net_out=net(test_X[i].view(-1,1,28,28))[0]\n",
    "        predicted=torch.argmax(net_out)\n",
    "        \n",
    "        if predicted==real:\n",
    "            correct+=1\n",
    "        total+=1\n",
    "print(\"Accuracy: \",100*round(correct/total,3))"
   ]
  },
  {
   "cell_type": "code",
   "execution_count": 114,
   "metadata": {},
   "outputs": [
    {
     "name": "stdout",
     "output_type": "stream",
     "text": [
      "(28, 28)\n"
     ]
    },
    {
     "data": {
      "image/png": "[encoded data removed]",
      "text/plain": [
       "<Figure size 432x288 with 1 Axes>"
      ]
     },
     "metadata": {
      "needs_background": "light"
     },
     "output_type": "display_data"
    }
   ],
   "source": [
    "from matplotlib import pyplot as plt\n",
    "img=cv2.imread(\"star.jpg\",cv2.IMREAD_GRAYSCALE)\n",
    "img=cv2.resize(img,(28,28))\n",
    "\n",
    "plt.imshow(img,cmap='gray')\n",
    "img=np.array(img)\n",
    "\n",
    "print(img.shape)\n"
   ]
  },
  {
   "cell_type": "code",
   "execution_count": 116,
   "metadata": {},
   "outputs": [
    {
     "name": "stdout",
     "output_type": "stream",
     "text": [
      "tensor([0., 0., 0., 0., 1.])\n"
     ]
    }
   ],
   "source": [
    "with torch.no_grad():    \n",
    "    img=torch.Tensor(img).view(-1,28,28)\n",
    "    out=model(img.view(-1,1,28,28))[0]\n",
    "    print(out)"
   ]
  },
  {
   "cell_type": "code",
   "execution_count": 112,
   "metadata": {},
   "outputs": [
    {
     "name": "stderr",
     "output_type": "stream",
     "text": [
      "c:\\users\\nahar\\appdata\\local\\programs\\python\\python36\\lib\\site-packages\\torch\\serialization.py:402: UserWarning: Couldn't retrieve source code for container of type Net. It won't be checked for correctness upon loading.\n",
      "  \"type \" + obj.__name__ + \". It won't be checked \"\n"
     ]
    }
   ],
   "source": [
    "torch.save(net,\"full.pth\")"
   ]
  },
  {
   "cell_type": "code",
   "execution_count": 113,
   "metadata": {},
   "outputs": [
    {
     "data": {
      "text/plain": [
       "Net(\n",
       "  (conv1): Conv2d(1, 32, kernel_size=(3, 3), stride=(1, 1))\n",
       "  (conv2): Conv2d(32, 64, kernel_size=(3, 3), stride=(1, 1))\n",
       "  (conv3): Conv2d(64, 128, kernel_size=(3, 3), stride=(1, 1))\n",
       "  (fc1): Linear(in_features=128, out_features=512, bias=True)\n",
       "  (fc2): Linear(in_features=512, out_features=5, bias=True)\n",
       ")"
      ]
     },
     "execution_count": 113,
     "metadata": {},
     "output_type": "execute_result"
    }
   ],
   "source": [
    "model=torch.load(\"full.pth\")\n",
    "model.eval()"
   ]
  },
  {
   "cell_type": "code",
   "execution_count": null,
   "metadata": {},
   "outputs": [],
   "source": []
  }
 ],
 "metadata": {
  "kernelspec": {
   "display_name": "Python 3",
   "language": "python",
   "name": "python3"
  },
  "language_info": {
   "codemirror_mode": {
    "name": "ipython",
    "version": 3
   },
   "file_extension": ".py",
   "mimetype": "text/x-python",
   "name": "python",
   "nbconvert_exporter": "python",
   "pygments_lexer": "ipython3",
   "version": "3.6.6"
  }
 },
 "nbformat": 4,
 "nbformat_minor": 2
}
